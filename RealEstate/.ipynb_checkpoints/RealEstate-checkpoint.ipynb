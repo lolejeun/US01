{
 "cells": [
  {
   "cell_type": "markdown",
   "metadata": {},
   "source": [
    "# US01 - Data meaning\n",
    "\n",
    "## Real Estate in Baoshan\n",
    "\n",
    "### Classification problem"
   ]
  },
  {
   "cell_type": "code",
   "execution_count": 5,
   "metadata": {},
   "outputs": [
    {
     "data": {
      "text/html": [
       "<div>\n",
       "<style scoped>\n",
       "    .dataframe tbody tr th:only-of-type {\n",
       "        vertical-align: middle;\n",
       "    }\n",
       "\n",
       "    .dataframe tbody tr th {\n",
       "        vertical-align: top;\n",
       "    }\n",
       "\n",
       "    .dataframe thead th {\n",
       "        text-align: right;\n",
       "    }\n",
       "</style>\n",
       "<table border=\"1\" class=\"dataframe\">\n",
       "  <thead>\n",
       "    <tr style=\"text-align: right;\">\n",
       "      <th></th>\n",
       "      <th>longitude</th>\n",
       "      <th>latitude</th>\n",
       "      <th>bedroom</th>\n",
       "      <th>room</th>\n",
       "      <th>surface</th>\n",
       "      <th>price</th>\n",
       "      <th>onesquaremeter</th>\n",
       "      <th>done</th>\n",
       "    </tr>\n",
       "  </thead>\n",
       "  <tbody>\n",
       "    <tr>\n",
       "      <th>count</th>\n",
       "      <td>34416.000000</td>\n",
       "      <td>34416.000000</td>\n",
       "      <td>34416.000000</td>\n",
       "      <td>34416.000000</td>\n",
       "      <td>34416.000000</td>\n",
       "      <td>3.441600e+04</td>\n",
       "      <td>34416.000000</td>\n",
       "      <td>34416.0</td>\n",
       "    </tr>\n",
       "    <tr>\n",
       "      <th>mean</th>\n",
       "      <td>121.419026</td>\n",
       "      <td>31.358999</td>\n",
       "      <td>2.135489</td>\n",
       "      <td>1.542219</td>\n",
       "      <td>80.874215</td>\n",
       "      <td>3.724417e+06</td>\n",
       "      <td>45357.469883</td>\n",
       "      <td>1.0</td>\n",
       "    </tr>\n",
       "    <tr>\n",
       "      <th>std</th>\n",
       "      <td>0.043893</td>\n",
       "      <td>0.045160</td>\n",
       "      <td>0.788247</td>\n",
       "      <td>0.577627</td>\n",
       "      <td>38.369549</td>\n",
       "      <td>2.235972e+06</td>\n",
       "      <td>12378.562546</td>\n",
       "      <td>0.0</td>\n",
       "    </tr>\n",
       "    <tr>\n",
       "      <th>min</th>\n",
       "      <td>121.268709</td>\n",
       "      <td>31.242255</td>\n",
       "      <td>1.000000</td>\n",
       "      <td>0.000000</td>\n",
       "      <td>10.000000</td>\n",
       "      <td>1.200000e+05</td>\n",
       "      <td>1562.500000</td>\n",
       "      <td>1.0</td>\n",
       "    </tr>\n",
       "    <tr>\n",
       "      <th>25%</th>\n",
       "      <td>121.397852</td>\n",
       "      <td>31.330078</td>\n",
       "      <td>2.000000</td>\n",
       "      <td>1.000000</td>\n",
       "      <td>57.000000</td>\n",
       "      <td>2.300000e+06</td>\n",
       "      <td>39285.714286</td>\n",
       "      <td>1.0</td>\n",
       "    </tr>\n",
       "    <tr>\n",
       "      <th>50%</th>\n",
       "      <td>121.421471</td>\n",
       "      <td>31.351733</td>\n",
       "      <td>2.000000</td>\n",
       "      <td>2.000000</td>\n",
       "      <td>76.000000</td>\n",
       "      <td>3.350000e+06</td>\n",
       "      <td>46268.656716</td>\n",
       "      <td>1.0</td>\n",
       "    </tr>\n",
       "    <tr>\n",
       "      <th>75%</th>\n",
       "      <td>121.444337</td>\n",
       "      <td>31.394538</td>\n",
       "      <td>3.000000</td>\n",
       "      <td>2.000000</td>\n",
       "      <td>93.000000</td>\n",
       "      <td>4.800000e+06</td>\n",
       "      <td>53086.419753</td>\n",
       "      <td>1.0</td>\n",
       "    </tr>\n",
       "    <tr>\n",
       "      <th>max</th>\n",
       "      <td>121.560788</td>\n",
       "      <td>31.548667</td>\n",
       "      <td>9.000000</td>\n",
       "      <td>9.000000</td>\n",
       "      <td>1240.000000</td>\n",
       "      <td>1.280000e+08</td>\n",
       "      <td>103225.806452</td>\n",
       "      <td>1.0</td>\n",
       "    </tr>\n",
       "  </tbody>\n",
       "</table>\n",
       "</div>"
      ],
      "text/plain": [
       "          longitude      latitude       bedroom          room       surface  \\\n",
       "count  34416.000000  34416.000000  34416.000000  34416.000000  34416.000000   \n",
       "mean     121.419026     31.358999      2.135489      1.542219     80.874215   \n",
       "std        0.043893      0.045160      0.788247      0.577627     38.369549   \n",
       "min      121.268709     31.242255      1.000000      0.000000     10.000000   \n",
       "25%      121.397852     31.330078      2.000000      1.000000     57.000000   \n",
       "50%      121.421471     31.351733      2.000000      2.000000     76.000000   \n",
       "75%      121.444337     31.394538      3.000000      2.000000     93.000000   \n",
       "max      121.560788     31.548667      9.000000      9.000000   1240.000000   \n",
       "\n",
       "              price  onesquaremeter     done  \n",
       "count  3.441600e+04    34416.000000  34416.0  \n",
       "mean   3.724417e+06    45357.469883      1.0  \n",
       "std    2.235972e+06    12378.562546      0.0  \n",
       "min    1.200000e+05     1562.500000      1.0  \n",
       "25%    2.300000e+06    39285.714286      1.0  \n",
       "50%    3.350000e+06    46268.656716      1.0  \n",
       "75%    4.800000e+06    53086.419753      1.0  \n",
       "max    1.280000e+08   103225.806452      1.0  "
      ]
     },
     "execution_count": 5,
     "metadata": {},
     "output_type": "execute_result"
    }
   ],
   "source": [
    "import pandas as pd \n",
    "df = pd.read_csv('UTSEUS-anjuke-real-estate-baoshan.csv', delimiter=',')\n",
    "df.describe()"
   ]
  },
  {
   "cell_type": "markdown",
   "metadata": {},
   "source": [
    "We choose to : \n",
    "\n",
    "   **X** : address    \n",
    "   \n",
    "   **Y** : price"
   ]
  },
  {
   "cell_type": "code",
   "execution_count": 6,
   "metadata": {},
   "outputs": [],
   "source": [
    "#Data\n",
    "X = df[['longitude', 'latitude', 'bedroom', 'room', 'surface']]\n",
    "Y = df['price']"
   ]
  },
  {
   "cell_type": "code",
   "execution_count": 7,
   "metadata": {},
   "outputs": [],
   "source": [
    "#Discritize the price (Z)\n",
    "Z = pd.DataFrame.copy(Y)\n",
    "Z[Y <= 2000000] = 1 \n",
    "Z[(Y > 2000000)&(Y <= 3000000)] = 2\n",
    "Z[Y <= 3000000] = 3 \n"
   ]
  },
  {
   "cell_type": "code",
   "execution_count": 9,
   "metadata": {},
   "outputs": [],
   "source": [
    "from sklearn.datasets import load_iris\n",
    "from sklearn import tree\n",
    "clf = tree.DecisionTreeClassifier()\n",
    "iris = load_iris()\n",
    "clf.fit(X,Z)\n",
    "clf = clf.fit(iris.data, iris.target)\n"
   ]
  },
  {
   "cell_type": "code",
   "execution_count": 10,
   "metadata": {},
   "outputs": [],
   "source": [
    "import graphviz \n",
    "tree.export_graphviz(clf,out_file='tree.dot') "
   ]
  },
  {
   "cell_type": "markdown",
   "metadata": {},
   "source": [
    "Enter the content of the file *tree.dot* in the following website: http://webgraphviz.com/ or use: \n",
    "    \n",
    "    dot -Tpng tree.dot -o tree.png"
   ]
  },
  {
   "cell_type": "code",
   "execution_count": null,
   "metadata": {},
   "outputs": [],
   "source": []
  }
 ],
 "metadata": {
  "kernelspec": {
   "display_name": "Python 3",
   "language": "python",
   "name": "python3"
  },
  "language_info": {
   "codemirror_mode": {
    "name": "ipython",
    "version": 3
   },
   "file_extension": ".py",
   "mimetype": "text/x-python",
   "name": "python",
   "nbconvert_exporter": "python",
   "pygments_lexer": "ipython3",
   "version": "3.7.0"
  }
 },
 "nbformat": 4,
 "nbformat_minor": 2
}
