{
 "cells": [
  {
   "cell_type": "markdown",
   "metadata": {},
   "source": [
    "*Lola Lejeune*\n",
    "\n",
    "# US01 - 1\n",
    "## Python discovery\n",
    "### Tip exercice \n",
    "\n",
    "Calcul the sum to paid for each person with variable tip (according to if it's good or bad) and variable taxe (according to the state) \n",
    "\n",
    "For the taxe, we used wikipedia data (https://en.wikipedia.org/wiki/Sales_taxes_in_the_United_States) \n",
    "\n",
    "**1. Creation of taxes dictionnary** "
   ]
  },
  {
   "cell_type": "code",
   "execution_count": null,
   "metadata": {
    "scrolled": true
   },
   "outputs": [],
   "source": [
    "#data\n",
    "# ''' is for text with new line \n",
    "rawTaxes = '''Alabama\t4%\t13.5%\t\t\t\t\t\t\n",
    "Alaska\t0%\t7%\t\t\t\t\t\t\n",
    "Arizona\t5.6%\t10.725%\t\t\t\t\t\t\n",
    "Arkansas\t6.5%\t11.625%\t1.5%+\t\t\t\t\t\n",
    "California\t7.25%\t10.25%\t\t\t\t\t\t\n",
    "Colorado\t2.9%\t10%\t\t\t\t\t\t\n",
    "Connecticut\t6.35%\t6.35%\t\t\t\t\t\t1%\n",
    "Delaware\t0%\t0%\t\t\t\t\t\t\n",
    "District of Columbia\t5.75%\t5.75%\t\t10%\t\t\t\t\n",
    "Florida\t6%\t7.5%\t\t9% (max)\t\t\t\t\n",
    "Georgia\t4%\t8%\t4% (max)[40]\t\t\t\t\t\n",
    "Guam\t4%\t4%\t\t\t\t\t\n",
    "Hawaii\t4.166%\t4.712%\t\t\t\t\t\t\n",
    "Idaho\t6%\t8.5%\t\t\t[41]\t\t\t\n",
    "Illinois\t6.25%\t10.25%\t1%+\t8.25%+\t1%+\t1%+\t\t\n",
    "Indiana\t7%\t7%\t\t9% (max)\t\t\t\t\n",
    "Iowa[42]\t6%\t7%\t\t\t\t\t\t\n",
    "Kansas\t6.5%\t10.15%\t\t\t\t\t\t\n",
    "Kentucky\t6%\t6%\t\t\t\t\t\t\n",
    "Louisiana\t5%\t12%\t7.0% (max)\t\t\t\t\t\n",
    "Maine\t5.5%\t5.5%\t\t8%\t\t\t\t\n",
    "Maryland\t6%\t6%\t\t\t\t\t\t\n",
    "Massachusetts\t6.25%\t6.25%\t\t7% (max)\t\t\t> $175\t\n",
    "Michigan\t6%\t6%\t\t\t\t\t\t\n",
    "Minnesota\t6.875%\t7.875%\t\t10.775% (max)\t\t\t\t\n",
    "Mississippi\t7%\t7.25%\t\t\t\t\t\t\n",
    "Missouri\t4.225%\t10.85%\t1.225%\t\t\t\t\t\n",
    "Montana\t0%\t0%\t\t\t\t\t\t\n",
    "Nebraska\t5.5%\t7.5%\t\t9.5% \n",
    "(Omaha)\t\t\t\t\n",
    "Nevada\t6.85%\t8.25%\t\t\t\t\t\t\n",
    "New Hampshire\t0%\t0%\t\t9%\t\t\t\t\n",
    "New Jersey\t6.625%\t12.875%\t\t\t\t\t\t\n",
    "New Mexico\t5.125%\t8.688%\t\t\t\t\t\t\n",
    "New York\t4%\t8.875%\t\t\t\t\t> $110\t\n",
    "North Carolina\t4.75%\t7.50%\t2%\t8.50% (max)\t\t\t\t\n",
    "North Dakota [43]\t5%\t8%\t\t\t\t\t\t\n",
    "Ohio[44]\t5.75%\t8%\t\tDine-in\t\t\t\t\n",
    "Oklahoma\t4.5%\t11%\t\t\t\t\t\t\n",
    "Oregon\t0%\t0%\t\t\t\t\t\t\n",
    "Pennsylvania\t6%\t8%\t\t\t\t\t\t\n",
    "Puerto Rico\t10.5%\t11.5%\t1%\t\t\t\t\n",
    "Rhode Island\t7%\t7%\t\t8%\t\t\t\t\n",
    "South Carolina\t6%\t9%\t\t10.5%\t\t\t\t\n",
    "South Dakota\t4%\t6%\t\t\t\t\t\t\n",
    "Tennessee\t7%\t9.75%\t4%+\t\t\t\t\t\n",
    "Texas\t6.25%\t8.25%\t\t\t\t\t\t\n",
    "Utah\t5.95%\t8.35%\t3%\t\t\t\t\t\n",
    "Vermont\t6%\t7%\t\t9%+\t\t\t> $110\t\n",
    "Virginia\t5.3%\t6%\t2.5%\t5.3%+\t\t\t\t\n",
    "Washington\t6.5%\t10.4%\t\t10% (max)\t\t\t\t\n",
    "West Virginia\t6%\t7%\t\t\t\t\t\t\n",
    "Wisconsin\t5%\t6.75%\t\t\t\t\t\t\n",
    "Wyoming\t4%\t6%\t\t\t\t\t\t'''\n"
   ]
  },
  {
   "cell_type": "code",
   "execution_count": 107,
   "metadata": {},
   "outputs": [
    {
     "data": {
      "text/plain": [
       "{'alabama': 0.04,\n",
       " 'alaska': 0.0,\n",
       " 'arizona': 0.055999999999999994,\n",
       " 'arkansas': 0.065,\n",
       " 'california': 0.0725,\n",
       " 'colorado': 0.028999999999999998,\n",
       " 'connecticut': 0.0635,\n",
       " 'delaware': 0.0,\n",
       " 'district of columbia': 0.0575,\n",
       " 'florida': 0.06,\n",
       " 'georgia': 0.04,\n",
       " 'guam': 0.04,\n",
       " 'hawaii': 0.04166,\n",
       " 'idaho': 0.06,\n",
       " 'illinois': 0.0625,\n",
       " 'indiana': 0.07,\n",
       " 'iowa': 0.06,\n",
       " 'kansas': 0.065,\n",
       " 'kentucky': 0.06,\n",
       " 'louisiana': 0.05,\n",
       " 'maine': 0.055,\n",
       " 'maryland': 0.06,\n",
       " 'massachusetts': 0.0625,\n",
       " 'michigan': 0.06,\n",
       " 'minnesota': 0.06875,\n",
       " 'mississippi': 0.07,\n",
       " 'missouri': 0.042249999999999996,\n",
       " 'montana': 0.0,\n",
       " 'nebraska': 0.055,\n",
       " 'nevada': 0.06849999999999999,\n",
       " 'new hampshire': 0.0,\n",
       " 'new jersey': 0.06625,\n",
       " 'new mexico': 0.05125,\n",
       " 'new york': 0.04,\n",
       " 'north carolina': 0.0475,\n",
       " 'north dakota ': 0.05,\n",
       " 'ohio': 0.0575,\n",
       " 'oklahoma': 0.045,\n",
       " 'oregon': 0.0,\n",
       " 'pennsylvania': 0.06,\n",
       " 'puerto rico': 0.105,\n",
       " 'rhode island': 0.07,\n",
       " 'south carolina': 0.06,\n",
       " 'south dakota': 0.04,\n",
       " 'tennessee': 0.07,\n",
       " 'texas': 0.0625,\n",
       " 'utah': 0.059500000000000004,\n",
       " 'vermont': 0.06,\n",
       " 'virginia': 0.053,\n",
       " 'washington': 0.065,\n",
       " 'west virginia': 0.06,\n",
       " 'wisconsin': 0.05,\n",
       " 'wyoming': 0.04}"
      ]
     },
     "execution_count": 107,
     "metadata": {},
     "output_type": "execute_result"
    }
   ],
   "source": [
    "#creation of the dictionnary\n",
    "taxes = {}\n",
    "\n",
    "#clean the data to get a dictionnary with the state (key) and the taxe (value)\n",
    "#when we print the data, we see that there are new line (\\n) and tabulation (\\t), so we split thanks to that \n",
    "for line in rawTaxes.split('\\n'):\n",
    "    if len(line) < 2:\n",
    "        continue\n",
    "        \n",
    "    if 'Omaha' in line:\n",
    "        continue\n",
    "    \n",
    "    state = line.split('\\t')[0].split('[')[0].lower()\n",
    "    \n",
    "    #remove the last caracter (%), transform into a float and divide by 100\n",
    "    tax = float(line.split('\\t')[1][:-1])/100\n",
    "    #add on the dictionnary\n",
    "    taxes[state] = tax\n",
    "\n",
    "taxes"
   ]
  },
  {
   "cell_type": "markdown",
   "metadata": {},
   "source": [
    "**2. Variables** "
   ]
  },
  {
   "cell_type": "code",
   "execution_count": 101,
   "metadata": {},
   "outputs": [],
   "source": [
    "#var\n",
    "people = 4\n",
    "tip = 'I think it was pretty BAd'\n",
    "state = 'vermont'\n",
    "bill = 30\n",
    "tax = taxes[state.lower()]\n",
    "\n",
    "#dictionnary\n",
    "tips = {'bad': 0.1, 'average': 0.15, 'good': 0.2 }"
   ]
  },
  {
   "cell_type": "markdown",
   "metadata": {},
   "source": [
    "**3. Recuperation of the tip value** \n",
    "-  First method, cut the sentence"
   ]
  },
  {
   "cell_type": "code",
   "execution_count": 102,
   "metadata": {},
   "outputs": [
    {
     "name": "stdout",
     "output_type": "stream",
     "text": [
      "tip value is: 0.1\n"
     ]
    }
   ],
   "source": [
    "final_tip = 'average'\n",
    "\n",
    "#we use lower() to control the casse\n",
    "for word in tip.lower().split():\n",
    "    \n",
    "    #if there is a ',' it will be stuck with the word. \n",
    "    #So we're used regular expression to select only group of word (a-z, A-Z, 0-9)\n",
    "    if not word.isalnum():\n",
    "        m = re.search(r\"\\w+\", word)\n",
    "        word = m.group(0)\n",
    "        \n",
    "    if word in tips.keys(): \n",
    "        final_tip = tips[word]\n",
    "        #use break to live the loop when first occurence occurred\n",
    "        break\n",
    "        \n",
    "print('tip value is:',final_tip)"
   ]
  },
  {
   "cell_type": "markdown",
   "metadata": {},
   "source": [
    "-  Second method, loop the keys of the dictionary"
   ]
  },
  {
   "cell_type": "code",
   "execution_count": 103,
   "metadata": {},
   "outputs": [
    {
     "name": "stdout",
     "output_type": "stream",
     "text": [
      "tip value is: 0.1\n"
     ]
    }
   ],
   "source": [
    "final_tip = 'average'\n",
    "\n",
    "for k in list(tips.keys()):\n",
    "    if k in tip.lower():\n",
    "        final_tip = tips[k]\n",
    "        break\n",
    "        \n",
    "print('tip value is:',final_tip)"
   ]
  },
  {
   "cell_type": "markdown",
   "metadata": {},
   "source": [
    "**4. Calcul of the price per person**"
   ]
  },
  {
   "cell_type": "code",
   "execution_count": 104,
   "metadata": {},
   "outputs": [],
   "source": [
    "#try and except aren't still useful because we check the tip before\n",
    "try:\n",
    "    total_pre_tax = final_tip * bill\n",
    "    \n",
    "except KeyError:\n",
    "    print('the tip is ill written')\n",
    "    \n",
    "total_with_tax = bill * tax\n",
    "total = total_pre_tax + total_with_tax + bill"
   ]
  },
  {
   "cell_type": "code",
   "execution_count": 105,
   "metadata": {},
   "outputs": [
    {
     "name": "stdout",
     "output_type": "stream",
     "text": [
      "price per person is 8.7\n"
     ]
    }
   ],
   "source": [
    "print('price per person is', total/people)"
   ]
  }
 ],
 "metadata": {
  "kernelspec": {
   "display_name": "Python 3",
   "language": "python",
   "name": "python3"
  },
  "language_info": {
   "codemirror_mode": {
    "name": "ipython",
    "version": 3
   },
   "file_extension": ".py",
   "mimetype": "text/x-python",
   "name": "python",
   "nbconvert_exporter": "python",
   "pygments_lexer": "ipython3",
   "version": "3.7.0"
  }
 },
 "nbformat": 4,
 "nbformat_minor": 2
}
