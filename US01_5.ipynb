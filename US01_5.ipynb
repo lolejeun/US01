{
 "cells": [
  {
   "cell_type": "markdown",
   "metadata": {},
   "source": [
    "# US01 - 5 \n",
    "## Python\n",
    "### Game of thrones part 3\n",
    "\n",
    "We restart with the pickle (**characters.pickle** and **characters_links.pickle**) and the way to make a graph from GOT book (**make a graph from GOT book NLP.pynb**). The pickle contains the list of characters from the wiki (we get the pickle thanks to **get wiki awoif list of characters.pynb**)"
   ]
  },
  {
   "cell_type": "markdown",
   "metadata": {},
   "source": [
    "We will need to build some rules to make correspondance between the characters in the book and our characters list (pickle):\n",
    "    \n",
    "Full search:\n",
    "1. In the book \n",
    "2. Common name \n",
    "3. Short and full name \n",
    "4. Alias\n",
    "\n",
    "Partial search: \n",
    "5. First name or last name in the full name"
   ]
  },
  {
   "cell_type": "markdown",
   "metadata": {},
   "source": [
    "To do that, we're gonna use and continue the work on **make a graph from GOT book NLP.pynb**"
   ]
  },
  {
   "cell_type": "code",
   "execution_count": null,
   "metadata": {},
   "outputs": [],
   "source": []
  }
 ],
 "metadata": {
  "kernelspec": {
   "display_name": "Python 3",
   "language": "python",
   "name": "python3"
  },
  "language_info": {
   "codemirror_mode": {
    "name": "ipython",
    "version": 3
   },
   "file_extension": ".py",
   "mimetype": "text/x-python",
   "name": "python",
   "nbconvert_exporter": "python",
   "pygments_lexer": "ipython3",
   "version": "3.7.0"
  }
 },
 "nbformat": 4,
 "nbformat_minor": 2
}
