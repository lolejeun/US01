{
 "cells": [
  {
   "cell_type": "markdown",
   "metadata": {},
   "source": [
    "# US01 - 5 / 6\n",
    "## Python\n",
    "### Game of thrones part 3 & 4\n",
    "\n",
    "We restart with the pickle (**characters.pickle** and **characters_links.pickle**) and the way to make a graph from GOT book (**make a graph from GOT book NLP.pynb**). The pickle contains the list of characters from the wiki. We need to find lemma for each characters. Thanks to this lemma we'll be able to make a graph and analyse the realtion between the characters. \n"
   ]
  },
  {
   "cell_type": "markdown",
   "metadata": {},
   "source": [
    "Different part: \n",
    " 1. **Prepare Characters Dict from AWOIF**\n",
    " \n",
    "     Get the characters (html pages) and make the pickle\n",
    "    \n",
    " 2. **Book to Graph – Game of Thrones Experiment**\n",
    " \n",
    "     Make our graph \n",
    "     \n",
    " 3. **PCA Analysis**"
   ]
  },
  {
   "cell_type": "code",
   "execution_count": null,
   "metadata": {},
   "outputs": [],
   "source": []
  }
 ],
 "metadata": {
  "kernelspec": {
   "display_name": "Python 3",
   "language": "python",
   "name": "python3"
  },
  "language_info": {
   "codemirror_mode": {
    "name": "ipython",
    "version": 3
   },
   "file_extension": ".py",
   "mimetype": "text/x-python",
   "name": "python",
   "nbconvert_exporter": "python",
   "pygments_lexer": "ipython3",
   "version": "3.7.0"
  }
 },
 "nbformat": 4,
 "nbformat_minor": 2
}
