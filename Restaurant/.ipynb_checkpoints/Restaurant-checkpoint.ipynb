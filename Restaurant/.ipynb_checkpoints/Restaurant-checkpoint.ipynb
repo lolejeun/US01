{
 "cells": [
  {
   "cell_type": "markdown",
   "metadata": {},
   "source": [
    "# US01 - Data meaning\n",
    "\n",
    "## Restaurant ranking\n",
    "\n",
    "### Classification problem\n",
    "\n",
    "Read data from a database and make request "
   ]
  },
  {
   "cell_type": "code",
   "execution_count": 13,
   "metadata": {},
   "outputs": [],
   "source": [
    "#-*- coding: utf-8 -*- \n",
    "\n",
    "import sqlite3\n",
    "\n",
    "#connection\n",
    "conn = sqlite3.connect('UTSEUS-shanghai-dianping.db')\n",
    "c = conn.cursor()\n",
    "\n",
    "#request \n",
    "c.execute('SELECT name, address, latitude, longitude, avg_rating, product_score, decoration_score, service_score, category, avg_price FROM venues, venue_categories WHERE venues.business_id = venue_categories.business_id')\n",
    "venues = c.fetchall()\n"
   ]
  },
  {
   "cell_type": "code",
   "execution_count": 14,
   "metadata": {},
   "outputs": [],
   "source": [
    "#dataframe\n",
    "import pandas as pd \n",
    "labels = ['name', 'address','latitude', 'longitude', 'avg_rating', 'product_score', 'decoration_score', 'service_score', 'category', 'avg_price']\n",
    "\n",
    "df = pd.DataFrame.from_records(venues[0:10000], columns=labels)\n",
    "\n",
    "excellent =  df[(df['avg_rating'] > 40)]\n",
    "good =  df[(df['avg_rating'] <= 40)&(df['avg_rating'] > 30)]\n",
    "average =  df[(df['avg_rating'] <= 30)&(df['avg_rating'] > 20)]\n",
    "mediocre = df[(df['avg_rating'] <= 20)&(df['avg_rating'] > 10)]\n",
    "bad= df[(df['avg_rating'] <= 10)]\n"
   ]
  },
  {
   "cell_type": "code",
   "execution_count": 15,
   "metadata": {},
   "outputs": [],
   "source": [
    "#extract restaurants from Baoshan\n",
    "df_baoshan = df[['宝山区' in adr for adr in df['address']]]"
   ]
  },
  {
   "cell_type": "code",
   "execution_count": 17,
   "metadata": {},
   "outputs": [],
   "source": [
    "#extract best restaurant from Baoshan\n",
    "df_baoshan_best = df_baoshan[(df_baoshan['product_score'] >0) & (df_baoshan['decoration_score'] >0) & (df_baoshan['service_score'] >0)]\n",
    "df_baoshan_best= df_baoshan_best[(df_baoshan_best['avg_price'] < 200) & (df_baoshan_best['avg_price'] > 0)]\n"
   ]
  },
  {
   "cell_type": "code",
   "execution_count": 32,
   "metadata": {},
   "outputs": [],
   "source": [
    "#create a new csv\n",
    "df_baoshan_best.to_csv('BaoshanRestaurant.csv', sep='\\t', encoding='utf-8')"
   ]
  },
  {
   "cell_type": "code",
   "execution_count": 29,
   "metadata": {},
   "outputs": [
    {
     "data": {
      "text/plain": [
       "[<matplotlib.lines.Line2D at 0x233adae8dd8>]"
      ]
     },
     "execution_count": 29,
     "metadata": {},
     "output_type": "execute_result"
    },
    {
     "data": {
      "image/png": "[encoded data removed]",
      "text/plain": [
       "<Figure size 432x288 with 1 Axes>"
      ]
     },
     "metadata": {
      "needs_background": "light"
     },
     "output_type": "display_data"
    }
   ],
   "source": [
    "#use data\n",
    "import matplotlib.pyplot as plt\n",
    "\n",
    "plt.figure(1)\n",
    "plt.plot(df_baoshan_best['avg_price'], df_baoshan_best['avg_rating'], '.')"
   ]
  },
  {
   "cell_type": "code",
   "execution_count": 30,
   "metadata": {},
   "outputs": [
    {
     "data": {
      "text/plain": [
       "(array([3., 2., 0., 1., 3., 0., 0., 0., 0., 4.]),\n",
       " array([ 15. ,  27.6,  40.2,  52.8,  65.4,  78. ,  90.6, 103.2, 115.8,\n",
       "        128.4, 141. ]),\n",
       " <a list of 10 Patch objects>)"
      ]
     },
     "execution_count": 30,
     "metadata": {},
     "output_type": "execute_result"
    },
    {
     "data": {
      "image/png": "[encoded data removed]",
      "text/plain": [
       "<Figure size 432x288 with 1 Axes>"
      ]
     },
     "metadata": {
      "needs_background": "light"
     },
     "output_type": "display_data"
    }
   ],
   "source": [
    "plt.figure(2)\n",
    "plt.hist(df_baoshan_best[df_baoshan_best['avg_rating']==40]['avg_price'])"
   ]
  },
  {
   "cell_type": "code",
   "execution_count": null,
   "metadata": {},
   "outputs": [
    {
     "name": "stderr",
     "output_type": "stream",
     "text": [
      "C:\\Users\\lolal\\Anaconda3\\lib\\site-packages\\numpy\\lib\\histograms.py:823: RuntimeWarning: invalid value encountered in true_divide\n",
      "  return n/db/n.sum(), bin_edges\n"
     ]
    },
    {
     "data": {
      "text/plain": [
       "<matplotlib.legend.Legend at 0x233ae245588>"
      ]
     },
     "execution_count": 38,
     "metadata": {},
     "output_type": "execute_result"
    }
   ],
   "source": [
    "data = (df_baoshan_best[df_baoshan_best['avg_rating']==20]['avg_price'],\n",
    "        df_baoshan_best[df_baoshan_best['avg_rating']==30]['avg_price'],\n",
    "        df_baoshan_best[df_baoshan_best['avg_rating']==35]['avg_price'],\n",
    "        df_baoshan_best[df_baoshan_best['avg_rating']==40]['avg_price'],\n",
    "        df_baoshan_best[df_baoshan_best['avg_rating']==45]['avg_price'],\n",
    "        df_baoshan_best[df_baoshan_best['avg_rating']==50]['avg_price'])\n",
    "plt.figure(3)\n",
    "plt.hist(data, density=True)\n"
   ]
  },
  {
   "cell_type": "code",
   "execution_count": null,
   "metadata": {},
   "outputs": [],
   "source": []
  },
  {
   "cell_type": "code",
   "execution_count": null,
   "metadata": {},
   "outputs": [],
   "source": []
  }
 ],
 "metadata": {
  "kernelspec": {
   "display_name": "Python 3",
   "language": "python",
   "name": "python3"
  },
  "language_info": {
   "codemirror_mode": {
    "name": "ipython",
    "version": 3
   },
   "file_extension": ".py",
   "mimetype": "text/x-python",
   "name": "python",
   "nbconvert_exporter": "python",
   "pygments_lexer": "ipython3",
   "version": "3.7.0"
  }
 },
 "nbformat": 4,
 "nbformat_minor": 2
}
