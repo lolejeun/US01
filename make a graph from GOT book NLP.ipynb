{
 "cells": [
  {
   "cell_type": "markdown",
   "metadata": {},
   "source": [
    "# GAME OF THRONES: A GRAPH EXPERIMENT\n",
    "\n"
   ]
  },
  {
   "cell_type": "markdown",
   "metadata": {},
   "source": [
    "### get the extracted characters informations from pickles\n",
    "\n",
    "The dictionaries are loaded directly"
   ]
  },
  {
   "cell_type": "code",
   "execution_count": 48,
   "metadata": {},
   "outputs": [],
   "source": [
    "import pickle\n",
    "with open('characters.pickle','rb') as fp:\n",
    "    characters = pickle.load(fp)\n",
    "#print(characters)    "
   ]
  },
  {
   "cell_type": "code",
   "execution_count": 49,
   "metadata": {},
   "outputs": [],
   "source": [
    "with open('characters_links.pickle','rb') as fp:\n",
    "    character_links = pickle.load(fp)\n",
    "    ccc "
   ]
  },
  {
   "cell_type": "markdown",
   "metadata": {},
   "source": [
    "## Read the chapters and the book they belong to\n",
    "The books have been cut into chapters themselves into a book directory named GOT{x} where x is the book in order of publication.\n",
    "We read the whole directory to retain only text files. we create a chapter list containing the text of the chapter and the book index"
   ]
  },
  {
   "cell_type": "code",
   "execution_count": 50,
   "metadata": {},
   "outputs": [
    {
     "name": "stdout",
     "output_type": "stream",
     "text": [
      "found 345 chapters\n"
     ]
    }
   ],
   "source": [
    "import os\n",
    "from os.path import join\n",
    "\n",
    "chapters = []\n",
    "\n",
    "for root, dirs, files in os.walk('data'):\n",
    "    for name in files:\n",
    "        if name.endswith('txt'):\n",
    "            book = int(root.split('/')[-1][-1:])\n",
    "            with open(join(root,name),'r') as fp:\n",
    "                chapters.append((book,fp.read()))\n",
    "                \n",
    "print('found',len(chapters),'chapters')\n",
    "#print(chapters[1])"
   ]
  },
  {
   "cell_type": "markdown",
   "metadata": {},
   "source": [
    "## For each Chapter, we analyze the entities and prepare the sentences\n",
    "Each chapter contains some Persons, that might be characters. We save them and their position together with the book they belong to. \n",
    "This will allow us to \n",
    "* get a distance between persons\n",
    "* disambiguate the characters using the book they appear in to"
   ]
  },
  {
   "cell_type": "code",
   "execution_count": 51,
   "metadata": {},
   "outputs": [],
   "source": [
    "#get candidate fonction. Call for lemmatize\n",
    "def getCandidates(name, shortened, key, equal=True):\n",
    "    candidates = []\n",
    "    print(name, key, equal)\n",
    "    for s in shortened:\n",
    "        if key != 'aliases':\n",
    "            if equal and s[key] is not None:\n",
    "                if name == s[key]:\n",
    "                    candidates.append(s)\n",
    "            elif not equal and s[key] is not None:\n",
    "                if name in s[key]:\n",
    "                    candidates.append(s)\n",
    "        else:\n",
    "            if equal and s['aliases'] is not None:\n",
    "                for a in s['aliases']:\n",
    "                    if name == a:\n",
    "                        candidates.append(s)\n",
    "            elif not equal and s['aliases'] is not None:\n",
    "                for a in s['aliases']:\n",
    "                    if name in a:\n",
    "                        candidates.append(s)\n",
    "    \n",
    "    #popularity\n",
    "    if len(candidates)>0:\n",
    "        if len(candidates)>1:\n",
    "            mvp = sorted(candidates, key=lambda c: len(c['aliases']), reverse=True)[0]\n",
    "            return mvp['common_name']\n",
    "        else:\n",
    "            return candidates[0]['common_name']\n",
    "    else:\n",
    "        None\n",
    "\n",
    "#lemmatize fonction        \n",
    "def lemmatize(name, book):\n",
    "    shortened = []\n",
    "    for c in characters:\n",
    "        if c['books'] is not None:\n",
    "            if book in c['books']:\n",
    "                shortened.append(c)\n",
    "    \n",
    "    priorities = ['common_name', 'short_name', 'fullname', 'aliases']\n",
    "    \n",
    "    #try in priorities\n",
    "    for priority in priorities:\n",
    "        candidate = getCandidates(name, shortened, priority)\n",
    "        if candidate is not None:\n",
    "            return candidate\n",
    "    \n",
    "    #try inside priorities\n",
    "    for priority in priorities:\n",
    "        candidate = getCandidates(name, shortened, priority, equal=False)\n",
    "        if candidate is not None:\n",
    "            return candidate\n",
    "    \n",
    "    return None"
   ]
  },
  {
   "cell_type": "code",
   "execution_count": 52,
   "metadata": {},
   "outputs": [
    {
     "name": "stdout",
     "output_type": "stream",
     "text": [
      "Ned common_name True\n",
      "Ned short_name True\n",
      "Ned fullname True\n",
      "Ned aliases True\n",
      "Eddard Stark\n"
     ]
    }
   ],
   "source": [
    "print(lemmatize('Ned',2))"
   ]
  },
  {
   "cell_type": "code",
   "execution_count": 56,
   "metadata": {},
   "outputs": [
    {
     "name": "stdout",
     "output_type": "stream",
     "text": [
      "dict_keys(['Waymar Royce', 'Gared', 'Royce', 'Ser Waymar Royce', 'Ser Waymar', 'Sworn', 'Bet', 'Mormont', 'Mallister', 'Mallisters', 'Will', 'Frost', 'Maester Aemon', 'Twilight', 'Down', 'Pale', 'Waymar', 'Tall', 'Robert', 'Would Gared', 'Bran', 'Mance Rayder', 'Robb', 'Jon', 'Eddard Stark', 'Jory Cassel', 'Eddard', 'Jon Snow', 'Ass', 'Race', 'Targaryen', 'Starks', 'Jory', 'Harwin', 'Stark', 'Snow', 'Desmond', 'Lady Stark', 'Something', 'Catelyn Tully Stark', 'Uncle Benjen', 'Ned', 'Grey Wind', 'Arya', 'Ghost', 'Septa Mordane', 'Mikken', 'Pentos', 'Myr', 'Run', 'Uncle Ben'])\n"
     ]
    }
   ],
   "source": [
    "import spacy\n",
    "from spacy.lang.en.stop_words import STOP_WORDS\n",
    "import networkx as nx\n",
    "\n",
    "STOPLIST = set([\"n't\", \"'s\", \"'m\", \"ca\"] + list(STOP_WORDS))\n",
    "#SYMBOLS = \" \".join(string.punctuation).split(\" \") + [\"-----\", \"---\", \"...\", \"“\", \"”\", '\\t','\\n']\n",
    "nlp = spacy.load('en_core_web_sm')\n",
    "\n",
    "final_characters = {}\n",
    "sentences = [] \n",
    "for i in range(len(chapters)):\n",
    "    if i > 2:\n",
    "        break\n",
    "    book, chapter = chapters[i]\n",
    "    chapter = chapter.strip().replace(\"\\n\", \" \").replace(\"\\t\", \" \")\n",
    "    doc = nlp(chapter)\n",
    "\n",
    "    for ent in doc.ents:\n",
    "        if ent.label_ == 'PERSON':\n",
    "            entity = ent.text.replace(\"'s\",'')\n",
    "            #lemmatize\n",
    "            if ent.text not in final_characters.keys():\n",
    "                final_characters[entity] = {'books':set(),'positions':[]}\n",
    "            \n",
    "            final_characters[entity]['books'].add(book)\n",
    "            final_characters[entity]['positions'].append((ent.start, ent.end))\n",
    "            ent.merge(ent.root.tag_,ent.text, ent.label_)\n",
    "    \n",
    "    sentence = []\n",
    "    for token in doc:\n",
    "       #print(token.ent_type_, token.text, token.pos_)\n",
    "        if token.ent_type_ == 'PERSON':\n",
    "            text = token.text.replace(' ', '_').replace(\"'s\",'')\n",
    "            tag = token.ent_type_\n",
    "            sentence.append('%s|%s' % (text, tag))\n",
    "        elif token.pos_ not in ['PUNCT','SPACE']:\n",
    "            sentence.append(token.lemma_.strip() if token.lemma_ != \"-PRON-\" else token.lower_)\n",
    "        elif token.pos_ == 'PUNCT' and token.text == '.':\n",
    "            sentences.append(sentence)\n",
    "            sentences.append([word for word in sentence if word not in STOPLIST])\n",
    "            sentence = []\n",
    "\n",
    "print(final_characters.keys())"
   ]
  },
  {
   "cell_type": "code",
   "execution_count": 32,
   "metadata": {},
   "outputs": [
    {
     "name": "stderr",
     "output_type": "stream",
     "text": [
      "C:\\Users\\lolal\\Anaconda3\\lib\\site-packages\\gensim-3.6.0-py3.7-win-amd64.egg\\gensim\\matutils.py:737: FutureWarning: Conversion of the second argument of issubdtype from `int` to `np.signedinteger` is deprecated. In future, it will be treated as `np.int32 == np.dtype(int).type`.\n",
      "  if np.issubdtype(vec.dtype, np.int):\n"
     ]
    },
    {
     "data": {
      "text/plain": [
       "[('he', 0.9986662864685059),\n",
       " ('his', 0.9986526370048523),\n",
       " ('the', 0.9985457062721252),\n",
       " ('and', 0.9985151290893555),\n",
       " ('of', 0.9984903335571289),\n",
       " ('man', 0.99846351146698),\n",
       " ('a', 0.9984533786773682),\n",
       " ('as', 0.9984182119369507),\n",
       " ('to', 0.9983260631561279),\n",
       " ('be', 0.9982801675796509)]"
      ]
     },
     "execution_count": 32,
     "metadata": {},
     "output_type": "execute_result"
    }
   ],
   "source": [
    "from gensim.models import Word2Vec\n",
    "model = Word2Vec(sentences, size=50, window=5, min_count=1, workers=4)\n",
    "model.wv.most_similar('Bran|PERSON')"
   ]
  },
  {
   "cell_type": "code",
   "execution_count": 33,
   "metadata": {},
   "outputs": [
    {
     "ename": "NameError",
     "evalue": "name 'G' is not defined",
     "output_type": "error",
     "traceback": [
      "\u001b[1;31m---------------------------------------------------------------------------\u001b[0m",
      "\u001b[1;31mNameError\u001b[0m                                 Traceback (most recent call last)",
      "\u001b[1;32m<ipython-input-33-af22afcbe253>\u001b[0m in \u001b[0;36m<module>\u001b[1;34m()\u001b[0m\n\u001b[0;32m      1\u001b[0m \u001b[1;32mimport\u001b[0m \u001b[0mitertools\u001b[0m\u001b[1;33m\u001b[0m\u001b[0m\n\u001b[0;32m      2\u001b[0m \u001b[0mcouples\u001b[0m \u001b[1;33m=\u001b[0m \u001b[0mlist\u001b[0m\u001b[1;33m(\u001b[0m\u001b[0mitertools\u001b[0m\u001b[1;33m.\u001b[0m\u001b[0mcombinations\u001b[0m\u001b[1;33m(\u001b[0m\u001b[0mcharacters\u001b[0m\u001b[1;33m,\u001b[0m \u001b[1;36m2\u001b[0m\u001b[1;33m)\u001b[0m\u001b[1;33m)\u001b[0m\u001b[1;33m\u001b[0m\u001b[0m\n\u001b[1;32m----> 3\u001b[1;33m \u001b[0mG\u001b[0m\u001b[1;33m.\u001b[0m\u001b[0madd_edges_from\u001b[0m\u001b[1;33m(\u001b[0m\u001b[0mcouples\u001b[0m\u001b[1;33m)\u001b[0m\u001b[1;33m\u001b[0m\u001b[0m\n\u001b[0m",
      "\u001b[1;31mNameError\u001b[0m: name 'G' is not defined"
     ]
    }
   ],
   "source": [
    "import itertools\n",
    "couples = list(itertools.combinations(characters, 2))\n",
    "G.add_edges_from(couples)"
   ]
  },
  {
   "cell_type": "code",
   "execution_count": null,
   "metadata": {},
   "outputs": [],
   "source": [
    "print(nx.info(G))\n",
    "nx.write_gexf(G, 'one-chapter.gexf')"
   ]
  },
  {
   "cell_type": "code",
   "execution_count": null,
   "metadata": {},
   "outputs": [],
   "source": []
  }
 ],
 "metadata": {
  "kernelspec": {
   "display_name": "Python 3",
   "language": "python",
   "name": "python3"
  },
  "language_info": {
   "codemirror_mode": {
    "name": "ipython",
    "version": 3
   },
   "file_extension": ".py",
   "mimetype": "text/x-python",
   "name": "python",
   "nbconvert_exporter": "python",
   "pygments_lexer": "ipython3",
   "version": "3.7.0"
  }
 },
 "nbformat": 4,
 "nbformat_minor": 2
}
